{
 "cells": [
  {
   "cell_type": "code",
   "execution_count": 1,
   "id": "df5b9be5",
   "metadata": {},
   "outputs": [
    {
     "name": "stdout",
     "output_type": "stream",
     "text": [
      "\n",
      "🛒 Welcome to the Market Basket Recommender!\n",
      "Type the items in your basket, separated by commas.\n",
      "\n",
      "📦 Recommended Items Based on Your Basket:\n",
      "1. mineral water\n",
      "2. spaghetti\n",
      "3. french fries\n",
      "4. chocolate\n",
      "5. milk\n"
     ]
    }
   ],
   "source": [
    "import pandas as pd\n",
    "from mlxtend.frequent_patterns import apriori, association_rules\n",
    "\n",
    "# Step 1: Load and preprocess data\n",
    "df = pd.read_csv(\"MBA.csv\", header=None)\n",
    "transactions = df.apply(lambda row: row.dropna().tolist(), axis=1).tolist()\n",
    "\n",
    "# Convert to one-hot encoded DataFrame\n",
    "from mlxtend.preprocessing import TransactionEncoder\n",
    "te = TransactionEncoder()\n",
    "te_ary = te.fit(transactions).transform(transactions)\n",
    "df_encoded = pd.DataFrame(te_ary, columns=te.columns_)\n",
    "\n",
    "# Step 2: Generate frequent itemsets and association rules\n",
    "frequent_itemsets = apriori(df_encoded, min_support=0.01, use_colnames=True)\n",
    "rules = association_rules(frequent_itemsets, metric=\"lift\", min_threshold=1)\n",
    "\n",
    "# Step 3: Recommendation system function\n",
    "def recommend_items(user_items, rules_df, top_n=5):\n",
    "    user_items = set(user_items)\n",
    "    filtered_rules = rules_df[rules_df['antecedents'].apply(lambda x: x.issubset(user_items))]\n",
    "    filtered_rules = filtered_rules.sort_values(by=['confidence', 'lift'], ascending=False)\n",
    "\n",
    "    recommendations = []\n",
    "    for consequents in filtered_rules['consequents']:\n",
    "        for item in consequents:\n",
    "            if item not in user_items:\n",
    "                recommendations.append(item)\n",
    "    return list(dict.fromkeys(recommendations))[:top_n]\n",
    "\n",
    "# Step 4: Terminal interaction\n",
    "def main():\n",
    "    print(\"\\n🛒 Welcome to the Market Basket Recommender!\")\n",
    "    print(\"Type the items in your basket, separated by commas.\")\n",
    "    user_input = input(\"Enter items: \").lower().strip()\n",
    "    user_items = [item.strip() for item in user_input.split(',') if item.strip()]\n",
    "\n",
    "    recommendations = recommend_items(user_items, rules)\n",
    "\n",
    "    print(\"\\n📦 Recommended Items Based on Your Basket:\")\n",
    "    if recommendations:\n",
    "        for i, rec in enumerate(recommendations, 1):\n",
    "            print(f\"{i}. {rec}\")\n",
    "    else:\n",
    "        print(\"❌ No strong recommendations found for the items you entered.\")\n",
    "        print(\"\\n🔎 Try entering more common items like:\")\n",
    "        top_items = frequent_itemsets.sort_values(by=\"support\", ascending=False)['itemsets'].head(10)\n",
    "        for itemset in top_items:\n",
    "            print(\"•\", \", \".join(itemset))\n",
    "\n",
    "if __name__ == \"__main__\":\n",
    "    main()\n"
   ]
  }
 ],
 "metadata": {
  "kernelspec": {
   "display_name": "Python 3",
   "language": "python",
   "name": "python3"
  },
  "language_info": {
   "codemirror_mode": {
    "name": "ipython",
    "version": 3
   },
   "file_extension": ".py",
   "mimetype": "text/x-python",
   "name": "python",
   "nbconvert_exporter": "python",
   "pygments_lexer": "ipython3",
   "version": "3.13.1"
  }
 },
 "nbformat": 4,
 "nbformat_minor": 5
}
